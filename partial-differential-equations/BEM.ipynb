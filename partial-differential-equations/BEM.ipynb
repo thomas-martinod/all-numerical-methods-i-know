{
 "cells": [
  {
   "cell_type": "markdown",
   "metadata": {},
   "source": [
    "# The Boundary Element Method (BEM)\n",
    "\n",
    "We want to solve the PDE:\n",
    "\n",
    "$$ \\nabla^2 u = -f(x,y), \\quad \\text{ in } \\Omega$$ \n",
    "\n",
    "subject to the boundary conditions:\n",
    "\n",
    "$$ u(x) = g(x,y), \\quad \\text{ on } \\partial \\Omega$$\n",
    "\n",
    "For this method, we need to use an integral representation of the equation, that, in this case is:\n",
    "\n",
    "$$u(\\boldsymbol{\\xi}) = \\int_S [u(\\mathbf{x})F(\\mathbf{x}, \\boldsymbol{\\xi}) - q(\\mathbf{x}) G(\\mathbf{x},\\boldsymbol{\\xi})] dS(\\mathbf{x}) + \\int_V f(\\mathbf{x}) G(\\mathbf{x}, \\boldsymbol{\\xi}) dV(\\mathbf{x})$$\n",
    "\n",
    "with:\n",
    "\n",
    "$$G(\\mathbf{x}, \\boldsymbol{\\xi}) = -\\frac{1}{2\\pi} \\ln|\\mathbf{x} - \\boldsymbol{\\xi}|$$\n",
    "\n",
    "\n",
    "and:\n"
   ]
  }
 ],
 "metadata": {
  "language_info": {
   "name": "python"
  }
 },
 "nbformat": 4,
 "nbformat_minor": 2
}
