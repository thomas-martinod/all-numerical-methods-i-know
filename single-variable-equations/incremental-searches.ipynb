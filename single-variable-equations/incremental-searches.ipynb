{
 "cells": [
  {
   "cell_type": "markdown",
   "metadata": {},
   "source": [
    "# Incremental Searches Method\n",
    "\n",
    "*Day 1, 06/10/2024*\n",
    "\n",
    "The **incremental searches method** is used to locate intervals where a continuous function $ f(x) $ changes sign, indicating the presence of at least one root (in particular an odd number of roots). The method starts from an initial guess $ x_0 $ and evaluates the function at that point. Then, it moves incrementally by a small value $ \\Delta x $ and evaluates the function at each new point.\n",
    "\n",
    "The key theoretical foundation is based on the **Intermediate Value Theorem**, which states that if a continuous function changes sign over an interval $[x_0, x_1]$, meaning $ f(x_0) f(x_1) < 0 $, then there must be at least one root within that interval. The method continues searching in this way, increasing the interval until either a root is found or the function changes sign, indicating the presence of a root between two points.\n",
    "\n",
    "If the function at any point is zero, that point is considered a root. If after a specified number of iterations no root is found, the method terminates, indicating failure."
   ]
  },
  {
   "cell_type": "code",
   "execution_count": 18,
   "metadata": {},
   "outputs": [],
   "source": [
    "# Incremental searches method\n",
    "\n",
    "def incremental_searches(f, x0, delta, Niter = 100):\n",
    "    fx0 = f(x0)\n",
    "    if fx0 == 0:\n",
    "        print(str(x0) + 'is a root for f(x)')\n",
    "        return x0\n",
    "    else:\n",
    "        x1 = x0 + delta\n",
    "        cont = 1\n",
    "        fx1 = f(x1)\n",
    "\n",
    "        while fx0 * fx1 > 0  and cont < Niter:\n",
    "            x0 = x1\n",
    "            fx0 = fx1\n",
    "            x1 = x0 + delta\n",
    "            fx1 = f(x1)\n",
    "            cont += 1\n",
    "\n",
    "        if fx1 == 0:\n",
    "            print(str(x1) + 'is a root for f(x)')\n",
    "            return x0\n",
    "        elif fx0 * fx1 < 0:\n",
    "            print('There exists a root between ' + str(x0) + '  and ' + str(x1))\n",
    "            return None\n",
    "        else:\n",
    "            print(f'The method failed in {Niter} iterations (no roots found)')\n",
    "            return None"
   ]
  },
  {
   "cell_type": "code",
   "execution_count": 39,
   "metadata": {},
   "outputs": [],
   "source": [
    "# Graph the function in the interval [a, b]\n",
    "import numpy as np\n",
    "import matplotlib.pyplot as plt\n",
    "\n",
    "plt.rcParams.update({\n",
    "    \"text.usetex\": True,\n",
    "    \"font.family\": \"serif\",\n",
    "    \"font.serif\": [\"Computer Modern Roman\"]\n",
    "})\n",
    "\n",
    "def graph_function_and_interval(a, b, f, delta = 0.01):\n",
    "\n",
    "    x = np.arange(a, b, delta)\n",
    "    image_of_x = f(x)\n",
    "\n",
    "    plt.plot(x, image_of_x, label = '$f(x)$')\n",
    "\n",
    "    plt.grid(True)\n",
    "    plt.xlabel('$x$')\n",
    "    plt.ylabel('$y$')\n",
    "    plt.legend()\n",
    "\n",
    "    plt.show()"
   ]
  },
  {
   "cell_type": "markdown",
   "metadata": {},
   "source": [
    "### Transcendental Equation for Energy Levels of a Quantum Particle in a Finite Potential Well\n",
    "\n",
    "To describe the quantum state of the particle, we solve the **time-independent Schrödinger equation**:\n",
    "\n",
    "$$ -\\frac{\\hbar^2}{2m} \\frac{d^2 \\psi(x)}{dx^2} + V(x)\\psi(x) = E\\psi(x) $$\n",
    "\n",
    "For a **finite potential well**, the potential $V(x)$ is defined as:\n",
    "- $V(x) = 0$ for $0 < x < L$ (inside the well),\n",
    "- $V(x) = V_0$ outside the well (for $x < 0$ or $x > L$).\n",
    "\n",
    "To find the allowed energy levels $E$, we solve the Schrödinger equation inside and outside the potential well. Inside the well ($0 < x < L$), the particle behaves like a free particle, and the general solution for the wave function is a combination of sine and cosine functions:\n",
    "\n",
    "$$ \\psi(x) = A \\sin(kx) + B \\cos(kx) $$\n",
    "\n",
    "Where:\n",
    "- $k = k(E) = \\sqrt{\\frac{2mE}{\\hbar^2}}$ is the wavenumber related to the energy $E$ of the particle.\n",
    "\n",
    "Matching the wave functions and their derivatives at the boundaries of the well ($x = 0$ and $x = L$) results in the following transcendental equation for the energy levels $E$:\n",
    "\n",
    "$$ k \\tan(kL) = \\sqrt{\\frac{2m(V_0 - E)}{\\hbar^2}} $$\n",
    "\n",
    "Where:\n",
    "- $k(E)$ is the wavenumber inside the well,\n",
    "- $L$ is the width of the potential well,\n",
    "- $m$ is the mass of the particle,\n",
    "- $E$ is the energy of the particle,\n",
    "- $V_0$ is the depth of the potential well,\n",
    "- $\\hbar$ is the reduced Planck constant.\n",
    "\n",
    "To use numerical methods, we find the zeros of the function:\n",
    "\n",
    "$$f(E) = \\sqrt{\\frac{2m(V_0 - E)}{\\hbar^2}} - k(E) \\tan(k(E)\\cdot L)$$\n",
    "\n",
    "¿Where are the zeros of the function? ¿Where is the first one? (the fundamental energy level)\n"
   ]
  },
  {
   "cell_type": "code",
   "execution_count": 47,
   "metadata": {},
   "outputs": [
    {
     "name": "stdout",
     "output_type": "stream",
     "text": [
      "There exists a root between 0.00015940000000000303  and 0.00015950000000000304\n"
     ]
    },
    {
     "data": {
      "image/png": "[encoded data removed]",
      "text/plain": [
       "<Figure size 640x480 with 1 Axes>"
      ]
     },
     "metadata": {},
     "output_type": "display_data"
    }
   ],
   "source": [
    "# Constants in eV\n",
    "L = 1e-10                           # Width of the well in meters (angstrom scale)\n",
    "m_e = 0.511e6                       # Mass of the electron in eV/c^2 (MeV)\n",
    "V0 = 50                             # Potential well depth in eV\n",
    "hbar = 6.582119e-16                 # Reduced Planck's constant in eV·s\n",
    "\n",
    "# Algorithm parameters\n",
    "x0 = 0                              # Initial energy guess in eV\n",
    "delta = 0.0000001                         # Step size for incremental search in eV\n",
    "\n",
    "# Define the transcendental equation for energy levels f(E)\n",
    "def eigen_energies(E):\n",
    "    k = np.sqrt(2 * m_e * E) / hbar\n",
    "    return np.sqrt(2 * m_e * (V0 - E)) / hbar - k * np.tan(k * L)\n",
    "\n",
    "\n",
    "# Add a %timeit before to time the algorithm\n",
    "incremental_searches(f = eigen_energies, x0 = x0, delta = delta, Niter = 10000000)\n",
    "\n",
    "graph_function_and_interval(0.07, 0.08, eigen_energies, delta = 0.00001)"
   ]
  }
 ],
 "metadata": {
  "kernelspec": {
   "display_name": "Python 3",
   "language": "python",
   "name": "python3"
  },
  "language_info": {
   "codemirror_mode": {
    "name": "ipython",
    "version": 3
   },
   "file_extension": ".py",
   "mimetype": "text/x-python",
   "name": "python",
   "nbconvert_exporter": "python",
   "pygments_lexer": "ipython3",
   "version": "3.11.3"
  }
 },
 "nbformat": 4,
 "nbformat_minor": 2
}
