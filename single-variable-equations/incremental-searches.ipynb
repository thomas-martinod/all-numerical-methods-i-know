{
 "cells": [
  {
   "cell_type": "markdown",
   "metadata": {},
   "source": [
    "# Incremental Searches Method\n",
    "\n",
    "It uses the mean value theorem"
   ]
  },
  {
   "cell_type": "code",
   "execution_count": 2,
   "metadata": {},
   "outputs": [],
   "source": [
    "def incremental_searches(x0, f, delta, Niter = 100):\n",
    "    fx0 = f(x0)\n",
    "    if fx0 == 0:\n",
    "        print(str(x0) + 'is a root')\n",
    "        return x0\n",
    "    else:\n",
    "        x1 = x0 + delta\n",
    "        cont = 1\n",
    "        fx1 = f(x1)\n",
    "\n",
    "        while fx0 * fx1 > 0  and cont < Niter:\n",
    "            x0 = x1\n",
    "            fx0 = fx1\n",
    "            x1 = x0 + delta\n",
    "            fx1 = f(x1)\n",
    "            cont += 1\n",
    "\n",
    "        if fx1 == 0:\n",
    "            return x0\n",
    "        elif fx0 * fx1 < 0:\n",
    "            print('There exists a root between ' + str(x0) + '  and ' + str(x1))\n",
    "            return None\n",
    "        else:\n",
    "            print('The method failed')\n",
    "            return None"
   ]
  },
  {
   "cell_type": "code",
   "execution_count": 10,
   "metadata": {},
   "outputs": [
    {
     "name": "stdout",
     "output_type": "stream",
     "text": [
      "There exists a root between 0.7600000000000005  and 0.7700000000000005\n"
     ]
    }
   ],
   "source": [
    "# Test and usage\n",
    "import numpy as np\n",
    "\n",
    "\n",
    "def f(x):\n",
    "    return np.exp(2-6*x) * np.cos(x**2 - 3) + 4*x - 3\n",
    "\n",
    "\n",
    "incremental_searches(x0 = 0, f = f, delta = 0.01)"
   ]
  }
 ],
 "metadata": {
  "kernelspec": {
   "display_name": "Python 3",
   "language": "python",
   "name": "python3"
  },
  "language_info": {
   "codemirror_mode": {
    "name": "ipython",
    "version": 3
   },
   "file_extension": ".py",
   "mimetype": "text/x-python",
   "name": "python",
   "nbconvert_exporter": "python",
   "pygments_lexer": "ipython3",
   "version": "3.11.3"
  }
 },
 "nbformat": 4,
 "nbformat_minor": 2
}
